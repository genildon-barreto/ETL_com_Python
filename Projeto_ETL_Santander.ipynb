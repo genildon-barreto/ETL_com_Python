{
  "nbformat": 4,
  "nbformat_minor": 0,
  "metadata": {
    "colab": {
      "provenance": []
    },
    "kernelspec": {
      "name": "python3",
      "display_name": "Python 3"
    },
    "language_info": {
      "name": "python"
    }
  },
  "cells": [
    {
      "cell_type": "markdown",
      "source": [
        "# Santander Ciência de Dados (ETL c/Python)"
      ],
      "metadata": {
        "id": "WNNPQpu1GaaX"
      }
    },
    {
      "cell_type": "markdown",
      "source": [
        "**Contexto:**</br>\n",
        "Requisição de Serviço para Conversão de Dados de Excel para PDF com Mensagens Personalizadas\n",
        "\n",
        "</br>**Descrição do Serviço:**</br>\n",
        "Realizar conversão de Dados Excel para PDF: Realizar a conversão dos dados contidos no arquivo Excel para um arquivo PDF único.\n",
        "\n",
        "</br>**Filtragem de Clientes:**</br>\n",
        "Identificar os clientes que aniversariam durante a semana, com base na data de aniversário que está contida na coluna D do Excel.\n",
        "\n",
        "</br>**Personalização das Mensagens:**</br>\n",
        "Para cada cliente que aniversaria durante a semana, personalizar a mensagem no PDF. A mensagem deve incluir o nome com primeiro sobrenome ou nome composto do cliente, que está contido na coluna A do Excel, da seguinte forma:\n",
        "\n",
        "```\n",
        "\"Olá {nome}, tudo bem? Essa semana você está aniversariando\n",
        "e para comemorar estamos com uma promoção! A partir de R$30\n",
        "em compras com pagamento por PIX, ganhe 10% de cashback na\n",
        "sua conta!\"\n",
        "```\n",
        "\n",
        "</br>**Formatação do PDF:**</br>\n",
        "Inserir as mensagens personalizadas no PDF com um espaçamento de duas linhas entre elas.\n",
        "\n",
        "</br>**Entregáveis Esperados:**</br>\n",
        "Arquivo PDF único contendo todas as mensagens personalizadas conforme os critérios mencionados.\n",
        "\n",
        "</br>**Observações Adicionais:**\n",
        "* O arquivo Excel contém os dados dos clientes, com as colunas A contendo o nome completo, e a coluna D contendo a data de aniversário;\n",
        "* O processo de conversão dos dados deve ser automatizado;</br>\n",
        "* O PDF final deve ser de alta qualidade e legível."
      ],
      "metadata": {
        "id": "ExwrOIz5-bYb"
      }
    },
    {
      "cell_type": "markdown",
      "source": [
        "# Extract"
      ],
      "metadata": {
        "id": "coydQXw5FvvW"
      }
    },
    {
      "cell_type": "code",
      "source": [
        "import pandas as pd\n",
        "!pip install fpdf2\n",
        "\n",
        "from fpdf import FPDF\n",
        "from datetime import datetime, timedelta\n",
        "\n",
        "df = pd.read_excel('Clientes_Planilha.xlsx')\n",
        "\n",
        "#Verifica o conteúdo do DataFrame\n",
        "print(df.head())"
      ],
      "metadata": {
        "colab": {
          "base_uri": "https://localhost:8080/"
        },
        "id": "f_kv4hOsKmXz",
        "outputId": "90963d57-d119-41ac-8ab8-9dc1405a5c07"
      },
      "execution_count": 1,
      "outputs": [
        {
          "output_type": "stream",
          "name": "stdout",
          "text": [
            "Collecting fpdf2\n",
            "  Downloading fpdf2-2.7.6-py2.py3-none-any.whl (187 kB)\n",
            "\u001b[?25l     \u001b[90m━━━━━━━━━━━━━━━━━━━━━━━━━━━━━━━━━━━━━━━━\u001b[0m \u001b[32m0.0/187.1 kB\u001b[0m \u001b[31m?\u001b[0m eta \u001b[36m-:--:--\u001b[0m\r\u001b[2K     \u001b[90m━━━━━━━━━━━━━━━━━━━━━━━━━━━━━━━━━━━━━━━━\u001b[0m \u001b[32m187.1/187.1 kB\u001b[0m \u001b[31m7.1 MB/s\u001b[0m eta \u001b[36m0:00:00\u001b[0m\n",
            "\u001b[?25hRequirement already satisfied: defusedxml in /usr/local/lib/python3.10/dist-packages (from fpdf2) (0.7.1)\n",
            "Requirement already satisfied: Pillow!=9.2.*,>=6.2.2 in /usr/local/lib/python3.10/dist-packages (from fpdf2) (9.4.0)\n",
            "Requirement already satisfied: fonttools>=4.34.0 in /usr/local/lib/python3.10/dist-packages (from fpdf2) (4.43.1)\n",
            "Installing collected packages: fpdf2\n",
            "Successfully installed fpdf2-2.7.6\n",
            "                          NOME                  EMAIL SEXO DATA DE NASCIMENTO  \\\n",
            "0                          NaN                    NaN  NaN                NaT   \n",
            "1                 Sonia Farina  sonia***@yahoo.com.br    F         1973-10-20   \n",
            "2  Sonia Lucia Leonel De Souza   sonin***@onda.com.br    F         1971-03-23   \n",
            "3         Sonia Maria Da Silva   sonia***@hotmail.com    F         1997-09-02   \n",
            "4  Sonia Regina Camargo Lenkiu  sonia***@yahoo.com.br    F         2005-04-17   \n",
            "\n",
            "       ENDERECO NÚMERO  COMPLEMENTO        CEP       BAIRRO    CIDADE ESTADO  \\\n",
            "0           NaN    NaN          NaN        NaN          NaN       NaN    NaN   \n",
            "1  Avenida S***    2**  AP 95 BL 02  81010-***      Lindóia  Curitiba     PR   \n",
            "2  UNBERTO C***    4**    SOBRADO 4  81670-***    Boqueirão  Curitiba     PR   \n",
            "3  Rua Oswal***    3**      casa 02  81930-***       Umbará  Curitiba     PR   \n",
            "4  Rua Rio T***    5**         casa  82840-***  Bairro Alto  Curitiba     PR   \n",
            "\n",
            "  PAIS  VALOR DE COMPRA  \n",
            "0  NaN              NaN  \n",
            "1   BR            618.0  \n",
            "2   BR          14702.0  \n",
            "3   BR            299.0  \n",
            "4   BR           7415.0  \n"
          ]
        }
      ]
    },
    {
      "cell_type": "code",
      "source": [
        "# Definir datas atual e da próxima semana\n",
        "data_atual = datetime.now()\n",
        "data_inicio_semana = data_atual + timedelta(days=(7 - data_atual.weekday()))\n",
        "data_fim_semana = data_inicio_semana + timedelta(days=7)\n",
        "\n",
        "# Filtrar clientes com aniversário na próxima semana\n",
        "clientes_aniversariantes = df[df['DATA DE NASCIMENTO'].apply(lambda x: (data_inicio_semana <= x.replace(year=data_atual.year) <= data_fim_semana))]\n",
        "\n",
        "#Verifica o DataFrame dos clientes\n",
        "print(clientes_aniversariantes)"
      ],
      "metadata": {
        "colab": {
          "base_uri": "https://localhost:8080/"
        },
        "id": "rgav-GwYLUML",
        "outputId": "5905afc9-7cfd-4184-ba8e-0ea62a89f73a"
      },
      "execution_count": 2,
      "outputs": [
        {
          "output_type": "stream",
          "name": "stdout",
          "text": [
            "                              NOME                                EMAIL SEXO  \\\n",
            "1                     Sonia Farina                sonia***@yahoo.com.br    F   \n",
            "8                      Telma Souza                 sopma***@hotmail.com    F   \n",
            "43        Vanessa Costa Dos Santos                 vanex***@hotmail.com    F   \n",
            "45   Vanessa Cristiane Rocha Couto                 vanes***@hotmail.com    F   \n",
            "89                Wivian Carradore                  wcarr***@bol.com.br    F   \n",
            "135                    Neiva Zinke                   consu***@gmail.com    F   \n",
            "282      Fernando Henrique Fischer  ferna***@construtoraelevacao.com.br    F   \n",
            "370        Agatha Teixeira Conelio                 agath***@hotmail.com    F   \n",
            "381               Adenilson Mendes                  rygie***@bol.com.br    F   \n",
            "\n",
            "    DATA DE NASCIMENTO      ENDERECO NÚMERO  COMPLEMENTO        CEP  \\\n",
            "1           1973-10-20  Avenida S***    2**  AP 95 BL 02  81010-***   \n",
            "8           1997-10-20  Rua Evang***    2**          NaN  84268-***   \n",
            "43          1985-10-22  Rua Olavo***    4**          NaN  84026-***   \n",
            "45          1977-10-21  Rua Rio S***    1**      sobrado  83322-***   \n",
            "89          2003-10-20  Praça Gab***    2**           52  86010-***   \n",
            "135         1982-10-17  RUA ALEXA***    3**          NaN  85200-***   \n",
            "282         1996-10-19  Avenida M***    2**      Empresa  80035-***   \n",
            "370         1982-10-22  Rua Argem***    3**         casa  83420-***   \n",
            "381         1985-10-19  Rua Jequi***    8**          NaN  83823-***   \n",
            "\n",
            "                  BAIRRO              CIDADE ESTADO PAIS  VALOR DE COMPRA  \n",
            "1                Lindóia            Curitiba     PR   BR            618.0  \n",
            "8            Vila Ozório      Telêmaco Borba     PR   BR           8793.0  \n",
            "43              Uvaranas        Ponta Grossa     PR   BR          19616.0  \n",
            "45           Weissópolis             Pinhais     PR   BR           6250.0  \n",
            "89                Centro            Londrina     PR   BR           1842.0  \n",
            "135  SAIDA P/ GUARAPUAVA             Pitanga     PR   BR           7952.0  \n",
            "282               Cabral            Curitiba     PR   BR          14375.0  \n",
            "370       Borda do Campo       Quatro Barras     PR   BR          14953.0  \n",
            "381               Nações  Fazenda Rio Grande     PR   BR           7658.0  \n"
          ]
        }
      ]
    },
    {
      "cell_type": "markdown",
      "source": [
        "# Transform & Load"
      ],
      "metadata": {
        "id": "H9C1dUX4GF-Q"
      }
    },
    {
      "cell_type": "code",
      "source": [
        "# Verifica se o DataFrame está vazio, caso contrário cria o PDF iterando com os clientes aniversariantes\n",
        "if clientes_aniversariantes.empty:\n",
        "    print(\"Nenhum cliente encontrado para a próxima semana.\")\n",
        "else:\n",
        "    pdf = FPDF()\n",
        "    pdf.add_page()\n",
        "    pdf.set_font(\"helvetica\", size=12)\n",
        "\n",
        "    for _, row in clientes_aniversariantes.iterrows():\n",
        "        nome = row['NOME']\n",
        "        nome_sobrenome = nome.split()[0]\n",
        "        if len(nome.split()) > 1:\n",
        "          nome_sobrenome += \" \" + nome.split()[1]\n",
        "\n",
        "        mensagem = f\"Olá {nome_sobrenome}, tudo bem? Essa semana você está aniversariando e para comemorar estamos com uma promoção! A partir de R$30 em compras com pagamento por PIX, ganhe 10% de cashback na sua conta.\"\n",
        "\n",
        "        pdf.multi_cell(0, 10, txt=mensagem, align=\"L\")\n",
        "        pdf.ln(20)  # Adiciona um espaçamento de duas linhas\n",
        "\n",
        "    # Salvar o PDF\n",
        "    pdf_output_file = \"mensagens_aniversario_clientes.pdf\"\n",
        "    pdf.output(pdf_output_file)\n",
        "\n",
        "    print(f'O arquivo {pdf_output_file} foi gerado com sucesso.')\n",
        "\n",
        "    from google.colab import files\n",
        "    files.download(pdf_output_file)"
      ],
      "metadata": {
        "colab": {
          "base_uri": "https://localhost:8080/",
          "height": 89
        },
        "id": "EO1lrf7VFxUr",
        "outputId": "7c146496-6e5e-402e-fa2e-2ec9d2f13f9d"
      },
      "execution_count": 4,
      "outputs": [
        {
          "output_type": "stream",
          "name": "stdout",
          "text": [
            "O arquivo mensagens_aniversario_clientes.pdf foi gerado com sucesso.\n"
          ]
        },
        {
          "output_type": "stream",
          "name": "stderr",
          "text": [
            "<ipython-input-4-5091fb700a66>:17: DeprecationWarning: The parameter \"txt\" has been renamed to \"text\" in 2.7.6\n",
            "  pdf.multi_cell(0, 10, txt=mensagem, align=\"L\")\n"
          ]
        },
        {
          "output_type": "display_data",
          "data": {
            "text/plain": [
              "<IPython.core.display.Javascript object>"
            ],
            "application/javascript": [
              "\n",
              "    async function download(id, filename, size) {\n",
              "      if (!google.colab.kernel.accessAllowed) {\n",
              "        return;\n",
              "      }\n",
              "      const div = document.createElement('div');\n",
              "      const label = document.createElement('label');\n",
              "      label.textContent = `Downloading \"${filename}\": `;\n",
              "      div.appendChild(label);\n",
              "      const progress = document.createElement('progress');\n",
              "      progress.max = size;\n",
              "      div.appendChild(progress);\n",
              "      document.body.appendChild(div);\n",
              "\n",
              "      const buffers = [];\n",
              "      let downloaded = 0;\n",
              "\n",
              "      const channel = await google.colab.kernel.comms.open(id);\n",
              "      // Send a message to notify the kernel that we're ready.\n",
              "      channel.send({})\n",
              "\n",
              "      for await (const message of channel.messages) {\n",
              "        // Send a message to notify the kernel that we're ready.\n",
              "        channel.send({})\n",
              "        if (message.buffers) {\n",
              "          for (const buffer of message.buffers) {\n",
              "            buffers.push(buffer);\n",
              "            downloaded += buffer.byteLength;\n",
              "            progress.value = downloaded;\n",
              "          }\n",
              "        }\n",
              "      }\n",
              "      const blob = new Blob(buffers, {type: 'application/binary'});\n",
              "      const a = document.createElement('a');\n",
              "      a.href = window.URL.createObjectURL(blob);\n",
              "      a.download = filename;\n",
              "      div.appendChild(a);\n",
              "      a.click();\n",
              "      div.remove();\n",
              "    }\n",
              "  "
            ]
          },
          "metadata": {}
        },
        {
          "output_type": "display_data",
          "data": {
            "text/plain": [
              "<IPython.core.display.Javascript object>"
            ],
            "application/javascript": [
              "download(\"download_2c1a3e83-618c-438c-93c5-4feeaaa77a56\", \"mensagens_aniversario_clientes.pdf\", 1829)"
            ]
          },
          "metadata": {}
        }
      ]
    }
  ]
}